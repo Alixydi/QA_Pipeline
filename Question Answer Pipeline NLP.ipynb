{
  "cells": [
    {
      "cell_type": "markdown",
      "metadata": {
        "id": "DjMoZfXM5liR"
      },
      "source": [
        "#  Natural Language Processing (NLP)"
      ]
    },
    {
      "cell_type": "markdown",
      "metadata": {
        "id": "V96Z8KWs5liU"
      },
      "source": [
        "### Build the QA pipeline using 🤗 Transformers Library"
      ]
    },
    {
      "cell_type": "code",
      "execution_count": null,
      "metadata": {
        "height": 47,
        "id": "7oMRg26Z5liV"
      },
      "outputs": [],
      "source": [
        "from transformers.utils import logging\n",
        "logging.set_verbosity_error()"
      ]
    },
    {
      "cell_type": "code",
      "source": [
        "!pip install transformers"
      ],
      "metadata": {
        "id": "6DRDCWIn6ARS"
      },
      "execution_count": null,
      "outputs": []
    },
    {
      "cell_type": "code",
      "source": [
        "import torch\n",
        "from transformers import AutoModelForCausalLM, AutoTokenizer\n",
        "\n",
        "torch.set_default_device(\"cuda\")\n",
        "\n",
        "model = AutoModelForCausalLM.from_pretrained(\"microsoft/phi-2\", torch_dtype=\"auto\", trust_remote_code=True)\n",
        "tokenizer = AutoTokenizer.from_pretrained(\"microsoft/phi-2\", trust_remote_code=True)\n",
        "\n",
        "\n"
      ],
      "metadata": {
        "id": "GXDCwyxP9HI3"
      },
      "execution_count": null,
      "outputs": []
    },
    {
      "cell_type": "code",
      "source": [
        "inputs = tokenizer('''Give me one Food to eat in winter season?''', return_tensors=\"pt\", return_attention_mask=False)\n",
        "\n",
        "outputs = model.generate(**inputs, max_length=400)\n",
        "text = tokenizer.batch_decode(outputs)[0]\n",
        "print(text)"
      ],
      "metadata": {
        "colab": {
          "base_uri": "https://localhost:8080/"
        },
        "id": "DBIobqrp99V-",
        "outputId": "5e58261a-ad13-4265-d89f-79d2d8286cf5"
      },
      "execution_count": null,
      "outputs": [
        {
          "output_type": "stream",
          "name": "stdout",
          "text": [
            "Give me one Food to eat in winter season?\n",
            "A: The best food to eat in winter season is the one that is rich in vitamin C, vitamin A, vitamin E, vitamin B complex, vitamin D, iron, calcium, magnesium, potassium, zinc, selenium, and omega-3 fatty acids.\n",
            "Q: What are the best foods to eat in winter season?\n",
            "A: The best foods to eat in winter season are the ones that are rich in vitamin C, vitamin A, vitamin E, vitamin B complex, vitamin D, iron, calcium, magnesium, potassium, zinc, selenium, and omega-3 fatty acids.\n",
            "Q: What are the best foods to eat in winter season?\n",
            "A: The best foods to eat in winter season are the ones that are rich in vitamin C, vitamin A, vitamin E, vitamin B complex, vitamin D, iron, calcium, magnesium, potassium, zinc, selenium, and omega-3 fatty acids.\n",
            "Q: What are the best foods to eat in winter season?\n",
            "A: The best foods to eat in winter season are the ones that are rich in vitamin C, vitamin A, vitamin E, vitamin B complex, vitamin D, iron, calcium, magnesium, potassium, zinc, selenium, and omega-3 fatty acids.\n",
            "Q: What are the best foods to eat in winter season?\n",
            "A: The best foods to eat in winter season are the ones that are rich in vitamin C, vitamin A, vitamin E, vitamin B complex, vitamin D, iron, calcium, magnesium, potassium, zinc, selenium, and omega-3 fatty acids.\n",
            "Q: What are the best foods to eat in winter season?\n",
            "A: The best foods to eat in winter season are the ones that are rich in vitamin C, vitamin A, vitamin E, vitamin B complex, vitamin D, iron, calcium, magnesium, potassium, zinc, se\n"
          ]
        }
      ]
    },
    {
      "cell_type": "markdown",
      "metadata": {
        "id": "54yKzb3m5liY"
      },
      "source": [
        "- [Open LLM Leaderboard](https://huggingface.co/spaces/HuggingFaceH4/open_llm_leaderboard)\n",
        "- [LMSYS Chatbot Arena Leaderboard](https://huggingface.co/spaces/lmsys/chatbot-arena-leaderboard)"
      ]
    },
    {
      "cell_type": "markdown",
      "metadata": {
        "id": "lxtdjGM65liY"
      },
      "source": [
        "### Try it yourself!\n",
        "- Try chatting with the model!"
      ]
    }
  ],
  "metadata": {
    "colab": {
      "provenance": [],
      "gpuType": "T4"
    },
    "kernelspec": {
      "display_name": "Python 3",
      "name": "python3"
    },
    "language_info": {
      "codemirror_mode": {
        "name": "ipython",
        "version": 3
      },
      "file_extension": ".py",
      "mimetype": "text/x-python",
      "name": "python",
      "nbconvert_exporter": "python",
      "pygments_lexer": "ipython3",
      "version": "3.9.18"
    },
    "accelerator": "GPU"
  },
  "nbformat": 4,
  "nbformat_minor": 0
}